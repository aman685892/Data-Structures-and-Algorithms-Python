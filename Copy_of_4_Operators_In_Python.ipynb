{
  "nbformat": 4,
  "nbformat_minor": 0,
  "metadata": {
    "colab": {
      "provenance": [],
      "authorship_tag": "ABX9TyPbrgnyHEeEmlT5qRzkDvCZ",
      "include_colab_link": true
    },
    "kernelspec": {
      "name": "python3",
      "display_name": "Python 3"
    },
    "language_info": {
      "name": "python"
    }
  },
  "cells": [
    {
      "cell_type": "markdown",
      "metadata": {
        "id": "view-in-github",
        "colab_type": "text"
      },
      "source": [
        "<a href=\"https://colab.research.google.com/github/aman685892/Data-Structures-and-Algorithms-Python/blob/main/Copy_of_4_Operators_In_Python.ipynb\" target=\"_parent\"><img src=\"https://colab.research.google.com/assets/colab-badge.svg\" alt=\"Open In Colab\"/></a>"
      ]
    },
    {
      "cell_type": "code",
      "execution_count": null,
      "metadata": {
        "colab": {
          "base_uri": "https://localhost:8080/"
        },
        "id": "FNtjTdc9Uvu-",
        "outputId": "5620dfd7-139b-4e1b-df9e-bd369b47b3a2"
      },
      "outputs": [
        {
          "output_type": "stream",
          "name": "stdout",
          "text": [
            "15\n",
            "5\n",
            "50\n",
            "2.0\n",
            "2\n",
            "0\n"
          ]
        }
      ],
      "source": [
        "## Arithmetic operation\n",
        "a=10\n",
        "b=5\n",
        "add_result=a+b\n",
        "sub_result=a-b\n",
        "mul_result=a*b\n",
        "div_result=a/b\n",
        "floordiv_result=a//b\n",
        "remainder_result=a%b\n",
        "print(add_result)\n",
        "print(sub_result)\n",
        "print(mul_result)\n",
        "print(div_result)\n",
        "print(floordiv_result)\n",
        "print(remainder_result)"
      ]
    },
    {
      "cell_type": "code",
      "source": [
        "print(a**b)"
      ],
      "metadata": {
        "colab": {
          "base_uri": "https://localhost:8080/"
        },
        "id": "U-pXZsBRWBrl",
        "outputId": "5ef2d6d5-ab9f-458d-cc9b-1b1a9ce906cf"
      },
      "execution_count": null,
      "outputs": [
        {
          "output_type": "stream",
          "name": "stdout",
          "text": [
            "100000\n"
          ]
        }
      ]
    },
    {
      "cell_type": "code",
      "source": [
        "## comparison operators\n",
        "str1=\"aman\"\n",
        "str2=\"aman\"\n",
        "print(str1==str2)"
      ],
      "metadata": {
        "colab": {
          "base_uri": "https://localhost:8080/"
        },
        "id": "IvoCkkqUWFoE",
        "outputId": "535df60b-7cc4-483e-f983-53780f8f07a6"
      },
      "execution_count": null,
      "outputs": [
        {
          "output_type": "stream",
          "name": "stdout",
          "text": [
            "True\n"
          ]
        }
      ]
    },
    {
      "cell_type": "code",
      "source": [
        "a=10\n",
        "b=8\n",
        "a==b"
      ],
      "metadata": {
        "colab": {
          "base_uri": "https://localhost:8080/"
        },
        "id": "ysLGgsQ2Wq0W",
        "outputId": "7a47abb0-723c-47c1-81dd-487fe14fa6f2"
      },
      "execution_count": null,
      "outputs": [
        {
          "output_type": "execute_result",
          "data": {
            "text/plain": [
              "False"
            ]
          },
          "metadata": {},
          "execution_count": 5
        }
      ]
    },
    {
      "cell_type": "code",
      "source": [
        "num1=14\n",
        "num2=8\n",
        "num1>=num2"
      ],
      "metadata": {
        "colab": {
          "base_uri": "https://localhost:8080/"
        },
        "id": "Zn0UQnkxWttb",
        "outputId": "9936cf5f-4deb-4180-9b1a-4bb974914bf5"
      },
      "execution_count": null,
      "outputs": [
        {
          "output_type": "execute_result",
          "data": {
            "text/plain": [
              "True"
            ]
          },
          "metadata": {},
          "execution_count": 6
        }
      ]
    },
    {
      "cell_type": "code",
      "source": [
        "a=89\n",
        "b=78\n",
        "a!=b"
      ],
      "metadata": {
        "colab": {
          "base_uri": "https://localhost:8080/"
        },
        "id": "Z6BT0WmCXGRu",
        "outputId": "abb2f8fa-5048-4b17-8d10-52f308d986e2"
      },
      "execution_count": null,
      "outputs": [
        {
          "output_type": "execute_result",
          "data": {
            "text/plain": [
              "True"
            ]
          },
          "metadata": {},
          "execution_count": 7
        }
      ]
    },
    {
      "cell_type": "code",
      "source": [
        "num3=90\n",
        "num4=89\n",
        "num3<=num4"
      ],
      "metadata": {
        "colab": {
          "base_uri": "https://localhost:8080/"
        },
        "id": "VlqeObIqXKQU",
        "outputId": "8dd55c4b-7616-46f8-88e3-8240f2a009c0"
      },
      "execution_count": null,
      "outputs": [
        {
          "output_type": "execute_result",
          "data": {
            "text/plain": [
              "False"
            ]
          },
          "metadata": {},
          "execution_count": 8
        }
      ]
    },
    {
      "cell_type": "code",
      "source": [],
      "metadata": {
        "id": "Zr3vOhQqXbPK"
      },
      "execution_count": null,
      "outputs": []
    },
    {
      "cell_type": "markdown",
      "source": [
        "LOGICAL OPERATORS"
      ],
      "metadata": {
        "id": "ML7a3el9X5mE"
      }
    },
    {
      "cell_type": "markdown",
      "source": [
        "## AND\n"
      ],
      "metadata": {
        "id": "JUtqz36tX8h7"
      }
    },
    {
      "cell_type": "code",
      "source": [
        "X=True\n",
        "Y=False\n",
        "X and Y"
      ],
      "metadata": {
        "colab": {
          "base_uri": "https://localhost:8080/"
        },
        "id": "i_0b1A5KX_0-",
        "outputId": "ce94e83d-490a-42cb-f6e2-6eaddfebfcdc"
      },
      "execution_count": null,
      "outputs": [
        {
          "output_type": "execute_result",
          "data": {
            "text/plain": [
              "False"
            ]
          },
          "metadata": {},
          "execution_count": 9
        }
      ]
    },
    {
      "cell_type": "code",
      "source": [
        "X=True\n",
        "Y=True\n",
        "print(X and Y)"
      ],
      "metadata": {
        "colab": {
          "base_uri": "https://localhost:8080/"
        },
        "id": "7us-4agMYIaZ",
        "outputId": "f1b93365-c24c-45b8-9f50-f6b4c9b72a82"
      },
      "execution_count": null,
      "outputs": [
        {
          "output_type": "stream",
          "name": "stdout",
          "text": [
            "True\n"
          ]
        }
      ]
    },
    {
      "cell_type": "code",
      "source": [
        "X=False\n",
        "Y=False\n",
        "print(X and Y)"
      ],
      "metadata": {
        "colab": {
          "base_uri": "https://localhost:8080/"
        },
        "id": "_dQJdZLdYUZt",
        "outputId": "3fd36ada-ea9c-46be-cc9d-b4b5339db3c1"
      },
      "execution_count": null,
      "outputs": [
        {
          "output_type": "stream",
          "name": "stdout",
          "text": [
            "False\n"
          ]
        }
      ]
    },
    {
      "cell_type": "markdown",
      "source": [
        "OR OPERATORS"
      ],
      "metadata": {
        "id": "wlc4Oak4YebK"
      }
    },
    {
      "cell_type": "code",
      "source": [
        "x=True\n",
        "y=True\n",
        "print(x or y)"
      ],
      "metadata": {
        "colab": {
          "base_uri": "https://localhost:8080/"
        },
        "id": "2Cph13v7YiZk",
        "outputId": "d0b7228a-8331-4437-d588-a6230229b9ae"
      },
      "execution_count": null,
      "outputs": [
        {
          "output_type": "stream",
          "name": "stdout",
          "text": [
            "True\n"
          ]
        }
      ]
    },
    {
      "cell_type": "code",
      "source": [
        "x=False\n",
        "y=False\n",
        "print(x or y)"
      ],
      "metadata": {
        "colab": {
          "base_uri": "https://localhost:8080/"
        },
        "id": "b2q2dSpJYpo5",
        "outputId": "c0812b7a-f85f-4569-ed4b-fd0758c06d3a"
      },
      "execution_count": null,
      "outputs": [
        {
          "output_type": "stream",
          "name": "stdout",
          "text": [
            "False\n"
          ]
        }
      ]
    },
    {
      "cell_type": "code",
      "source": [
        "x= True\n",
        "y=False\n",
        "print(x or y)"
      ],
      "metadata": {
        "colab": {
          "base_uri": "https://localhost:8080/"
        },
        "id": "ESGTg4-PYwkG",
        "outputId": "956fc1cc-82d4-4fad-a547-2d3d2f4c3b51"
      },
      "execution_count": null,
      "outputs": [
        {
          "output_type": "stream",
          "name": "stdout",
          "text": [
            "True\n"
          ]
        }
      ]
    }
  ]
}