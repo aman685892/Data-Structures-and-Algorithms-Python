{
  "nbformat": 4,
  "nbformat_minor": 0,
  "metadata": {
    "colab": {
      "provenance": [],
      "authorship_tag": "ABX9TyOeeeIlqeYmvz3TAoWSYYYJ",
      "include_colab_link": true
    },
    "kernelspec": {
      "name": "python3",
      "display_name": "Python 3"
    },
    "language_info": {
      "name": "python"
    }
  },
  "cells": [
    {
      "cell_type": "markdown",
      "metadata": {
        "id": "view-in-github",
        "colab_type": "text"
      },
      "source": [
        "<a href=\"https://colab.research.google.com/github/aman685892/Data-Structures-and-Algorithms-Python/blob/main/Copy_of_2_Variables_In_Python.ipynb\" target=\"_parent\"><img src=\"https://colab.research.google.com/assets/colab-badge.svg\" alt=\"Open In Colab\"/></a>"
      ]
    },
    {
      "cell_type": "code",
      "execution_count": null,
      "metadata": {
        "colab": {
          "base_uri": "https://localhost:8080/"
        },
        "id": "qph4HBvgLXm1",
        "outputId": "afca3775-7cf7-4627-8139-2c5cc67f2003"
      },
      "outputs": [
        {
          "output_type": "stream",
          "name": "stdout",
          "text": [
            "name: aman\n",
            "age: 21\n",
            "height: 6.1\n",
            "is_student: True\n"
          ]
        }
      ],
      "source": [
        "## declairing and assigning variables\n",
        "age=21\n",
        "name=\"aman\"\n",
        "height=6.1\n",
        "is_student=True\n",
        "print(\"name:\",name)\n",
        "print(\"age:\",age)\n",
        "print(\"height:\",height)\n",
        "print(\"is_student:\",is_student)"
      ]
    },
    {
      "cell_type": "code",
      "source": [
        "## naming conventions\n",
        "## variables names are case sensitive\n",
        "## variable can start with letter and underscore and can contain lettrs and underscore in between them but cant start with  digits\n",
        "##variables name should be descriptive\n",
        "first_name=\"aman\"\n",
        "last_name=\"kumar\""
      ],
      "metadata": {
        "id": "Y6QHAbnLMskw"
      },
      "execution_count": null,
      "outputs": []
    },
    {
      "cell_type": "code",
      "source": [
        "## Invalid naming conventions\n",
        "@name=\"sidhant patel\""
      ],
      "metadata": {
        "colab": {
          "base_uri": "https://localhost:8080/",
          "height": 106
        },
        "id": "gD943hzDN3JG",
        "outputId": "fb26a2d2-94ea-44f7-bd54-e881cba36495"
      },
      "execution_count": null,
      "outputs": [
        {
          "output_type": "error",
          "ename": "SyntaxError",
          "evalue": "invalid syntax. Maybe you meant '==' or ':=' instead of '='? (ipython-input-478611116.py, line 2)",
          "traceback": [
            "\u001b[0;36m  File \u001b[0;32m\"/tmp/ipython-input-478611116.py\"\u001b[0;36m, line \u001b[0;32m2\u001b[0m\n\u001b[0;31m    @name=\"sidhant patel\"\u001b[0m\n\u001b[0m     ^\u001b[0m\n\u001b[0;31mSyntaxError\u001b[0m\u001b[0;31m:\u001b[0m invalid syntax. Maybe you meant '==' or ':=' instead of '='?\n"
          ]
        }
      ]
    },
    {
      "cell_type": "code",
      "source": [
        "5name=\"aman\""
      ],
      "metadata": {
        "colab": {
          "base_uri": "https://localhost:8080/",
          "height": 106
        },
        "id": "nmqqIJqrONz9",
        "outputId": "2df5ad1e-3395-4e88-894b-db9a76e7502a"
      },
      "execution_count": null,
      "outputs": [
        {
          "output_type": "error",
          "ename": "SyntaxError",
          "evalue": "invalid decimal literal (ipython-input-1432465326.py, line 1)",
          "traceback": [
            "\u001b[0;36m  File \u001b[0;32m\"/tmp/ipython-input-1432465326.py\"\u001b[0;36m, line \u001b[0;32m1\u001b[0m\n\u001b[0;31m    5name=\"aman\"\u001b[0m\n\u001b[0m    ^\u001b[0m\n\u001b[0;31mSyntaxError\u001b[0m\u001b[0;31m:\u001b[0m invalid decimal literal\n"
          ]
        }
      ]
    },
    {
      "cell_type": "code",
      "source": [
        "## case sensitivity\n",
        "name=\"aman\"\n",
        "Name=\"kumar\"\n",
        "name==Name"
      ],
      "metadata": {
        "colab": {
          "base_uri": "https://localhost:8080/"
        },
        "id": "qeqJCZecOV5G",
        "outputId": "53c1c8e3-dad2-4fa6-a7ae-cc33e8d10cf4"
      },
      "execution_count": null,
      "outputs": [
        {
          "output_type": "execute_result",
          "data": {
            "text/plain": [
              "False"
            ]
          },
          "metadata": {},
          "execution_count": 46
        }
      ]
    },
    {
      "cell_type": "code",
      "source": [
        "## python is a dynamically typed programming language\n",
        "x=9\n",
        "print(type(x))\n",
        "name=\"aman\"\n",
        "Standard=\"aiml\"\n",
        "Roll=2211035\n",
        "print(type(Roll))\n",
        "print(type(Standard))"
      ],
      "metadata": {
        "colab": {
          "base_uri": "https://localhost:8080/"
        },
        "id": "Wz4v53enOrTj",
        "outputId": "23ff25ed-4345-4498-8838-a89a002d5f01"
      },
      "execution_count": null,
      "outputs": [
        {
          "output_type": "stream",
          "name": "stdout",
          "text": [
            "<class 'int'>\n",
            "<class 'int'>\n",
            "<class 'str'>\n"
          ]
        }
      ]
    },
    {
      "cell_type": "code",
      "source": [
        "# Type conversion in python\n",
        "u=9\n",
        "print(type(u))\n",
        "u_str=str(u)\n",
        "print(u_str)"
      ],
      "metadata": {
        "colab": {
          "base_uri": "https://localhost:8080/"
        },
        "id": "xeenOy4YPgtn",
        "outputId": "e052eab0-a6c6-4659-d074-18185728f472"
      },
      "execution_count": null,
      "outputs": [
        {
          "output_type": "stream",
          "name": "stdout",
          "text": [
            "<class 'int'>\n",
            "9\n"
          ]
        }
      ]
    },
    {
      "cell_type": "code",
      "source": [
        "name=\"8\"\n",
        "z=int(name)\n",
        "print(z)\n",
        "print(type(z))"
      ],
      "metadata": {
        "colab": {
          "base_uri": "https://localhost:8080/"
        },
        "id": "mK5UELrHQQC4",
        "outputId": "3d456731-36cf-41f5-9866-23052e712a3d"
      },
      "execution_count": null,
      "outputs": [
        {
          "output_type": "stream",
          "name": "stdout",
          "text": [
            "8\n",
            "<class 'int'>\n"
          ]
        }
      ]
    },
    {
      "cell_type": "code",
      "source": [
        "name=\"patel\"\n",
        "int(name)"
      ],
      "metadata": {
        "colab": {
          "base_uri": "https://localhost:8080/",
          "height": 158
        },
        "id": "mg00i2jMQbZg",
        "outputId": "36a79db9-00f7-4dda-d6cf-bfdd0fd8bd9c"
      },
      "execution_count": null,
      "outputs": [
        {
          "output_type": "error",
          "ename": "ValueError",
          "evalue": "invalid literal for int() with base 10: 'patel'",
          "traceback": [
            "\u001b[0;31m---------------------------------------------------------------------------\u001b[0m",
            "\u001b[0;31mValueError\u001b[0m                                Traceback (most recent call last)",
            "\u001b[0;32m/tmp/ipython-input-3833215926.py\u001b[0m in \u001b[0;36m<cell line: 0>\u001b[0;34m()\u001b[0m\n\u001b[1;32m      1\u001b[0m \u001b[0mname\u001b[0m\u001b[0;34m=\u001b[0m\u001b[0;34m\"patel\"\u001b[0m\u001b[0;34m\u001b[0m\u001b[0;34m\u001b[0m\u001b[0m\n\u001b[0;32m----> 2\u001b[0;31m \u001b[0mint\u001b[0m\u001b[0;34m(\u001b[0m\u001b[0mname\u001b[0m\u001b[0;34m)\u001b[0m\u001b[0;34m\u001b[0m\u001b[0;34m\u001b[0m\u001b[0m\n\u001b[0m",
            "\u001b[0;31mValueError\u001b[0m: invalid literal for int() with base 10: 'patel'"
          ]
        }
      ]
    },
    {
      "cell_type": "code",
      "source": [
        "height=8.9\n",
        "print(type(int(height)))\n",
        "print(height)\n",
        "int(height)\n",
        "float(height)"
      ],
      "metadata": {
        "colab": {
          "base_uri": "https://localhost:8080/"
        },
        "id": "RWaEzzC3QwSv",
        "outputId": "ce0eff38-81ce-4e7c-e933-fd28005ae84d"
      },
      "execution_count": null,
      "outputs": [
        {
          "output_type": "stream",
          "name": "stdout",
          "text": [
            "<class 'int'>\n",
            "8.9\n"
          ]
        },
        {
          "output_type": "execute_result",
          "data": {
            "text/plain": [
              "8.9"
            ]
          },
          "metadata": {},
          "execution_count": 51
        }
      ]
    },
    {
      "cell_type": "code",
      "source": [],
      "metadata": {
        "id": "d3d0AHOUTe-b"
      },
      "execution_count": null,
      "outputs": []
    },
    {
      "cell_type": "code",
      "source": [
        "## dynamic typing\n",
        "## python allows the type of variables to change as the program executes\n",
        "var=10\n",
        "print(var,type(var))\n",
        "var=\"name\"\n",
        "print(var,type(var))\n",
        "var=7.8\n",
        "print(var,type(var))"
      ],
      "metadata": {
        "colab": {
          "base_uri": "https://localhost:8080/"
        },
        "id": "yMogMSA9RSYh",
        "outputId": "dfa8ca8f-c20b-481d-8df2-a5d23c0e5448"
      },
      "execution_count": null,
      "outputs": [
        {
          "output_type": "stream",
          "name": "stdout",
          "text": [
            "10 <class 'int'>\n",
            "name <class 'str'>\n",
            "7.8 <class 'float'>\n"
          ]
        }
      ]
    },
    {
      "cell_type": "code",
      "source": [
        "## user input\n",
        "age=input(\"what is the age:\")\n",
        "print(age)\n",
        "print(type(age))"
      ],
      "metadata": {
        "id": "3HuMFigOTxxv",
        "outputId": "43e62fa2-6f3a-414b-dc0a-6198f85cae73",
        "colab": {
          "base_uri": "https://localhost:8080/"
        }
      },
      "execution_count": null,
      "outputs": [
        {
          "output_type": "stream",
          "name": "stdout",
          "text": [
            "what is the age:21\n",
            "21\n",
            "<class 'str'>\n"
          ]
        }
      ]
    },
    {
      "cell_type": "code",
      "source": [
        "## user input\n",
        "age=int(input(\"what is the age:\"))\n",
        "print(age)\n",
        "print(type(age))\n"
      ],
      "metadata": {
        "id": "6q5jcx9rUfwA",
        "outputId": "0bae6ef3-e228-4054-f8b8-b75c051938ae",
        "colab": {
          "base_uri": "https://localhost:8080/"
        }
      },
      "execution_count": null,
      "outputs": [
        {
          "output_type": "stream",
          "name": "stdout",
          "text": [
            "what is the age:31\n",
            "31\n",
            "<class 'int'>\n"
          ]
        }
      ]
    },
    {
      "cell_type": "code",
      "source": [
        "num1=int(input(\"Enter num1:\"))\n",
        "num2=int(input(\"Enter num2:\"))\n",
        "sum=num1+num2\n",
        "diff=num1-num2\n",
        "mul=num1*num2\n",
        "div=num1/num2\n",
        "print(\"sum:\" ,sum)\n",
        "print(\"dif:\",diff)\n",
        "print(\"mul:\",mul)\n",
        "print(\"div:\",div)"
      ],
      "metadata": {
        "id": "ynqIK6ZgUnEp",
        "outputId": "16a151a7-9fcc-4e5a-aa64-13e1f7b33fe4",
        "colab": {
          "base_uri": "https://localhost:8080/"
        }
      },
      "execution_count": null,
      "outputs": [
        {
          "output_type": "stream",
          "name": "stdout",
          "text": [
            "Enter num1:56\n",
            "Enter num2:7\n",
            "sum: 63\n",
            "dif: 49\n",
            "mul: 392\n",
            "div: 8.0\n"
          ]
        }
      ]
    }
  ]
}