{
  "nbformat": 4,
  "nbformat_minor": 0,
  "metadata": {
    "colab": {
      "provenance": [],
      "include_colab_link": true
    },
    "kernelspec": {
      "name": "python3",
      "display_name": "Python 3"
    },
    "language_info": {
      "name": "python"
    }
  },
  "cells": [
    {
      "cell_type": "markdown",
      "metadata": {
        "id": "view-in-github",
        "colab_type": "text"
      },
      "source": [
        "<a href=\"https://colab.research.google.com/github/aman685892/Data-Structures-and-Algorithms-Python/blob/main/Copy_of_2_Variables_In_Python.ipynb\" target=\"_parent\"><img src=\"https://colab.research.google.com/assets/colab-badge.svg\" alt=\"Open In Colab\"/></a>"
      ]
    },
    {
      "cell_type": "code",
      "execution_count": 1,
      "metadata": {
        "colab": {
          "base_uri": "https://localhost:8080/"
        },
        "id": "qph4HBvgLXm1",
        "outputId": "42b8be45-f8c3-406f-8e85-952160ae7407"
      },
      "outputs": [
        {
          "output_type": "stream",
          "name": "stdout",
          "text": [
            "name: aman\n",
            "age: 21\n",
            "height: 6.1\n",
            "is_student: True\n"
          ]
        }
      ],
      "source": [
        "## declairing and assigning variables\n",
        "age=21\n",
        "name=\"aman\"\n",
        "height=6.1\n",
        "is_student=True\n",
        "print(\"name:\",name)\n",
        "print(\"age:\",age)\n",
        "print(\"height:\",height)\n",
        "print(\"is_student:\",is_student)"
      ]
    },
    {
      "cell_type": "code",
      "source": [
        "## naming conventions\n",
        "## variables names are case sensitive\n",
        "## variable can start with letter and underscore and can contain lettrs and underscore in between them but cant start with  digits\n",
        "##variables name should be descriptive\n",
        "first_name=\"aman\"\n",
        "last_name=\"kumar\""
      ],
      "metadata": {
        "id": "Y6QHAbnLMskw"
      },
      "execution_count": 2,
      "outputs": []
    },
    {
      "cell_type": "code",
      "source": [
        "## case sensitivity\n",
        "name=\"aman\"\n",
        "Name=\"kumar\"\n",
        "name==Name"
      ],
      "metadata": {
        "colab": {
          "base_uri": "https://localhost:8080/"
        },
        "id": "qeqJCZecOV5G",
        "outputId": "9f9bbb66-efb2-4427-bc18-df37f4134124"
      },
      "execution_count": 3,
      "outputs": [
        {
          "output_type": "execute_result",
          "data": {
            "text/plain": [
              "False"
            ]
          },
          "metadata": {},
          "execution_count": 3
        }
      ]
    },
    {
      "cell_type": "code",
      "source": [
        "## python is a dynamically typed programming language\n",
        "x=9\n",
        "print(type(x))\n",
        "name=\"aman\"\n",
        "Standard=\"aiml\"\n",
        "Roll=2211035\n",
        "print(type(Roll))\n",
        "print(type(Standard))"
      ],
      "metadata": {
        "colab": {
          "base_uri": "https://localhost:8080/"
        },
        "id": "Wz4v53enOrTj",
        "outputId": "b9aef059-99d5-4785-efcb-12a8da8c3885"
      },
      "execution_count": 4,
      "outputs": [
        {
          "output_type": "stream",
          "name": "stdout",
          "text": [
            "<class 'int'>\n",
            "<class 'int'>\n",
            "<class 'str'>\n"
          ]
        }
      ]
    },
    {
      "cell_type": "code",
      "source": [
        "# Type conversion in python\n",
        "u=9\n",
        "print(type(u))\n",
        "u_str=str(u)\n",
        "print(u_str)"
      ],
      "metadata": {
        "colab": {
          "base_uri": "https://localhost:8080/"
        },
        "id": "xeenOy4YPgtn",
        "outputId": "68572987-adde-4c93-8f73-2b3d8712d878"
      },
      "execution_count": 5,
      "outputs": [
        {
          "output_type": "stream",
          "name": "stdout",
          "text": [
            "<class 'int'>\n",
            "9\n"
          ]
        }
      ]
    },
    {
      "cell_type": "code",
      "source": [
        "name=\"8\"\n",
        "z=int(name)\n",
        "print(z)\n",
        "print(type(z))"
      ],
      "metadata": {
        "colab": {
          "base_uri": "https://localhost:8080/"
        },
        "id": "mK5UELrHQQC4",
        "outputId": "79ba4bf8-c137-423f-ccb0-24c702b74bf5"
      },
      "execution_count": 6,
      "outputs": [
        {
          "output_type": "stream",
          "name": "stdout",
          "text": [
            "8\n",
            "<class 'int'>\n"
          ]
        }
      ]
    },
    {
      "cell_type": "code",
      "source": [
        "height=8.9\n",
        "print(type(int(height)))\n",
        "print(height)\n",
        "int(height)\n",
        "float(height)"
      ],
      "metadata": {
        "colab": {
          "base_uri": "https://localhost:8080/"
        },
        "id": "RWaEzzC3QwSv",
        "outputId": "627f31a0-550e-4d10-c0a7-acf13a71fd75"
      },
      "execution_count": 7,
      "outputs": [
        {
          "output_type": "stream",
          "name": "stdout",
          "text": [
            "<class 'int'>\n",
            "8.9\n"
          ]
        },
        {
          "output_type": "execute_result",
          "data": {
            "text/plain": [
              "8.9"
            ]
          },
          "metadata": {},
          "execution_count": 7
        }
      ]
    },
    {
      "cell_type": "code",
      "source": [],
      "metadata": {
        "id": "d3d0AHOUTe-b"
      },
      "execution_count": 7,
      "outputs": []
    },
    {
      "cell_type": "code",
      "source": [
        "## dynamic typing\n",
        "## python allows the type of variables to change as the program executes\n",
        "var=10\n",
        "print(var,type(var))\n",
        "var=\"name\"\n",
        "print(var,type(var))\n",
        "var=7.8\n",
        "print(var,type(var))"
      ],
      "metadata": {
        "colab": {
          "base_uri": "https://localhost:8080/"
        },
        "id": "yMogMSA9RSYh",
        "outputId": "f75dae38-2d89-49e5-983a-6bc68814493c"
      },
      "execution_count": 8,
      "outputs": [
        {
          "output_type": "stream",
          "name": "stdout",
          "text": [
            "10 <class 'int'>\n",
            "name <class 'str'>\n",
            "7.8 <class 'float'>\n"
          ]
        }
      ]
    },
    {
      "cell_type": "code",
      "source": [
        "## user input\n",
        "age=input(\"what is the age:\")\n",
        "print(age)\n",
        "print(type(age))"
      ],
      "metadata": {
        "id": "3HuMFigOTxxv",
        "outputId": "2f19392f-cd96-46cd-9e41-6e705b3f92ec",
        "colab": {
          "base_uri": "https://localhost:8080/"
        }
      },
      "execution_count": 9,
      "outputs": [
        {
          "output_type": "stream",
          "name": "stdout",
          "text": [
            "what is the age:67\n",
            "67\n",
            "<class 'str'>\n"
          ]
        }
      ]
    },
    {
      "cell_type": "code",
      "source": [
        "## user input\n",
        "age=int(input(\"what is the age:\"))\n",
        "print(age)\n",
        "print(type(age))\n"
      ],
      "metadata": {
        "id": "6q5jcx9rUfwA",
        "outputId": "ee519a64-dea4-4acb-9019-0b16f29125bd",
        "colab": {
          "base_uri": "https://localhost:8080/"
        }
      },
      "execution_count": 10,
      "outputs": [
        {
          "output_type": "stream",
          "name": "stdout",
          "text": [
            "what is the age:21\n",
            "21\n",
            "<class 'int'>\n"
          ]
        }
      ]
    },
    {
      "cell_type": "code",
      "source": [
        "num1=int(input(\"Enter num1:\"))\n",
        "num2=int(input(\"Enter num2:\"))\n",
        "sum=num1+num2\n",
        "diff=num1-num2\n",
        "mul=num1*num2\n",
        "div=num1/num2\n",
        "print(\"sum:\" ,sum)\n",
        "print(\"dif:\",diff)\n",
        "print(\"mul:\",mul)\n",
        "print(\"div:\",div)"
      ],
      "metadata": {
        "id": "ynqIK6ZgUnEp",
        "outputId": "a4b22bed-6814-4ed4-cbb5-9b14ec3c4e70",
        "colab": {
          "base_uri": "https://localhost:8080/"
        }
      },
      "execution_count": 11,
      "outputs": [
        {
          "output_type": "stream",
          "name": "stdout",
          "text": [
            "Enter num1:56\n",
            "Enter num2:7\n",
            "sum: 63\n",
            "dif: 49\n",
            "mul: 392\n",
            "div: 8.0\n"
          ]
        }
      ]
    }
  ]
}