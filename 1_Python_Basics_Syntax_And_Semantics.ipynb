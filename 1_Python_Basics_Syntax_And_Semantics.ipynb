{
  "nbformat": 4,
  "nbformat_minor": 0,
  "metadata": {
    "colab": {
      "provenance": [],
      "include_colab_link": true
    },
    "kernelspec": {
      "name": "python3",
      "display_name": "Python 3"
    },
    "language_info": {
      "name": "python"
    }
  },
  "cells": [
    {
      "cell_type": "markdown",
      "metadata": {
        "id": "view-in-github",
        "colab_type": "text"
      },
      "source": [
        "<a href=\"https://colab.research.google.com/github/aman685892/Data-Structures-and-Algorithms-Python/blob/main/1_Python_Basics_Syntax_And_Semantics.ipynb\" target=\"_parent\"><img src=\"https://colab.research.google.com/assets/colab-badge.svg\" alt=\"Open In Colab\"/></a>"
      ]
    },
    {
      "cell_type": "code",
      "execution_count": 1,
      "metadata": {
        "colab": {
          "base_uri": "https://localhost:8080/"
        },
        "id": "ZLVUDDjPEPmM",
        "outputId": "71898595-4a84-4a6b-813e-8527c0b2b37a"
      },
      "outputs": [
        {
          "output_type": "stream",
          "name": "stdout",
          "text": [
            "aman\n",
            "pman\n"
          ]
        }
      ],
      "source": [
        "## basic syntax rule in python\n",
        "## Python is a  case sensitive language\n",
        "name='aman'\n",
        "Name=\"pman\"\n",
        "print(name)\n",
        "print(Name)"
      ]
    },
    {
      "cell_type": "code",
      "source": [
        "## indentation\n",
        "## python language uses indentation to define blocks of code . Consistent use of spaces( commonly 4) or a  tab is required\n",
        "age=32\n",
        "if age>30:\n",
        "  print(\"hello\")\n",
        "\n",
        "print('world')"
      ],
      "metadata": {
        "colab": {
          "base_uri": "https://localhost:8080/"
        },
        "id": "RWM8NnZiGCeg",
        "outputId": "21d9afb9-416c-4450-cb3c-0ef460fad1cd"
      },
      "execution_count": 2,
      "outputs": [
        {
          "output_type": "stream",
          "name": "stdout",
          "text": [
            "hello\n",
            "world\n"
          ]
        }
      ]
    },
    {
      "cell_type": "code",
      "source": [
        "## Line continuation\n",
        "x=1+2+3+4+5+6+\\\n",
        "7+8\n",
        "print(x)"
      ],
      "metadata": {
        "colab": {
          "base_uri": "https://localhost:8080/"
        },
        "id": "KkIdHRPPGgPX",
        "outputId": "5ce3993d-9cdc-4c07-951d-7bbec61220ae"
      },
      "execution_count": 3,
      "outputs": [
        {
          "output_type": "stream",
          "name": "stdout",
          "text": [
            "36\n"
          ]
        }
      ]
    },
    {
      "cell_type": "code",
      "source": [
        "## multiple statements on a single line\n",
        "x=5;y=10;z=x+y\n",
        "print(z)"
      ],
      "metadata": {
        "colab": {
          "base_uri": "https://localhost:8080/"
        },
        "id": "3JnItVRNHKGm",
        "outputId": "286893c2-a48a-4207-dcca-f5b88a6545fe"
      },
      "execution_count": 4,
      "outputs": [
        {
          "output_type": "stream",
          "name": "stdout",
          "text": [
            "15\n"
          ]
        }
      ]
    },
    {
      "cell_type": "code",
      "source": [
        "## understand semantics in python\n",
        "## variables assignment\n",
        "x=7\n",
        "c=\"aman\""
      ],
      "metadata": {
        "id": "Dy4L-eZ1HeSN"
      },
      "execution_count": 5,
      "outputs": []
    },
    {
      "cell_type": "code",
      "source": [
        "print(type(x))"
      ],
      "metadata": {
        "colab": {
          "base_uri": "https://localhost:8080/"
        },
        "id": "Tbg3zb7rIEsg",
        "outputId": "8b14919a-f10d-408d-b9d3-65b52c1756d7"
      },
      "execution_count": 6,
      "outputs": [
        {
          "output_type": "stream",
          "name": "stdout",
          "text": [
            "<class 'int'>\n"
          ]
        }
      ]
    },
    {
      "cell_type": "code",
      "source": [
        "print(type(c))"
      ],
      "metadata": {
        "colab": {
          "base_uri": "https://localhost:8080/"
        },
        "id": "HRdeslyiIHq4",
        "outputId": "67218746-fef1-49e7-9e47-47ed161b415d"
      },
      "execution_count": 7,
      "outputs": [
        {
          "output_type": "stream",
          "name": "stdout",
          "text": [
            "<class 'str'>\n"
          ]
        }
      ]
    },
    {
      "cell_type": "code",
      "source": [
        "## Type inference\n",
        "variable=10\n",
        "print(type(variable))\n",
        "variable=\"aman\"\n",
        "print(type(variable))"
      ],
      "metadata": {
        "colab": {
          "base_uri": "https://localhost:8080/"
        },
        "id": "_GJl39MpIcb4",
        "outputId": "c7d9a31e-15e7-44c4-a9d4-febe29d9b940"
      },
      "execution_count": 8,
      "outputs": [
        {
          "output_type": "stream",
          "name": "stdout",
          "text": [
            "<class 'int'>\n",
            "<class 'str'>\n"
          ]
        }
      ]
    },
    {
      "cell_type": "code",
      "source": [
        "## code examples of indentation\n",
        "if True:\n",
        "  print(\"Hello\")\n",
        "  if False:\n",
        "    print(\"world\")\n",
        "  print(\"aman\")\n",
        "print(\"gupta\")"
      ],
      "metadata": {
        "colab": {
          "base_uri": "https://localhost:8080/"
        },
        "id": "-qZbNLD7JpVP",
        "outputId": "561e2e45-438f-47ee-e120-7445d9b5fda1"
      },
      "execution_count": 9,
      "outputs": [
        {
          "output_type": "stream",
          "name": "stdout",
          "text": [
            "Hello\n",
            "aman\n",
            "gupta\n"
          ]
        }
      ]
    },
    {
      "cell_type": "code",
      "source": [],
      "metadata": {
        "id": "TRubdv9jKYDk"
      },
      "execution_count": 9,
      "outputs": []
    }
  ]
}