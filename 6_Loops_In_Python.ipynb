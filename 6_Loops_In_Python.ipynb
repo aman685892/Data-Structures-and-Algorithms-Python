{
  "nbformat": 4,
  "nbformat_minor": 0,
  "metadata": {
    "colab": {
      "provenance": [],
      "authorship_tag": "ABX9TyNZzaDfonUlBmw8dZd90F2L",
      "include_colab_link": true
    },
    "kernelspec": {
      "name": "python3",
      "display_name": "Python 3"
    },
    "language_info": {
      "name": "python"
    }
  },
  "cells": [
    {
      "cell_type": "markdown",
      "metadata": {
        "id": "view-in-github",
        "colab_type": "text"
      },
      "source": [
        "<a href=\"https://colab.research.google.com/github/aman685892/Data-Structures-and-Algorithms-Python/blob/main/6_Loops_In_Python.ipynb\" target=\"_parent\"><img src=\"https://colab.research.google.com/assets/colab-badge.svg\" alt=\"Open In Colab\"/></a>"
      ]
    },
    {
      "cell_type": "code",
      "execution_count": 1,
      "metadata": {
        "colab": {
          "base_uri": "https://localhost:8080/"
        },
        "id": "gnAXYHJjg7OI",
        "outputId": "23a97517-c83c-492d-f687-0f95dced6fc9"
      },
      "outputs": [
        {
          "output_type": "execute_result",
          "data": {
            "text/plain": [
              "range(0, 12)"
            ]
          },
          "metadata": {},
          "execution_count": 1
        }
      ],
      "source": [
        "## for loop\n",
        "range(12)"
      ]
    },
    {
      "cell_type": "code",
      "source": [
        "for i in range(5):\n",
        "  print(i)\n"
      ],
      "metadata": {
        "colab": {
          "base_uri": "https://localhost:8080/"
        },
        "id": "8hZKrtXghpKD",
        "outputId": "b53ed764-59ec-437c-8bc5-c6c11ce5abf3"
      },
      "execution_count": 2,
      "outputs": [
        {
          "output_type": "stream",
          "name": "stdout",
          "text": [
            "0\n",
            "1\n",
            "2\n",
            "3\n",
            "4\n"
          ]
        }
      ]
    },
    {
      "cell_type": "code",
      "source": [
        "for i in range(1,6):\n",
        "  print(i)\n"
      ],
      "metadata": {
        "colab": {
          "base_uri": "https://localhost:8080/"
        },
        "id": "HMBMGlunhy-U",
        "outputId": "8db87688-db9d-4698-e2e5-d319d6f8de69"
      },
      "execution_count": 3,
      "outputs": [
        {
          "output_type": "stream",
          "name": "stdout",
          "text": [
            "1\n",
            "2\n",
            "3\n",
            "4\n",
            "5\n"
          ]
        }
      ]
    },
    {
      "cell_type": "code",
      "source": [
        "for i in range(1,10,1):\n",
        "  print(i)"
      ],
      "metadata": {
        "colab": {
          "base_uri": "https://localhost:8080/"
        },
        "id": "Mkb_BceMiAZE",
        "outputId": "7c368a04-5027-4bf9-c08e-5bdc546bd568"
      },
      "execution_count": 4,
      "outputs": [
        {
          "output_type": "stream",
          "name": "stdout",
          "text": [
            "1\n",
            "2\n",
            "3\n",
            "4\n",
            "5\n",
            "6\n",
            "7\n",
            "8\n",
            "9\n"
          ]
        }
      ]
    },
    {
      "cell_type": "code",
      "source": [
        "for i in range(1,10,3):\n",
        "  print(i)"
      ],
      "metadata": {
        "colab": {
          "base_uri": "https://localhost:8080/"
        },
        "id": "8JBnC7cyiXDl",
        "outputId": "f3d85806-7872-4821-e45d-87800da334fc"
      },
      "execution_count": 5,
      "outputs": [
        {
          "output_type": "stream",
          "name": "stdout",
          "text": [
            "1\n",
            "4\n",
            "7\n"
          ]
        }
      ]
    },
    {
      "cell_type": "code",
      "source": [
        "for i in range(10,1,-2): ## step size is 2 ie decresing by 2 size\n",
        "  print(i)"
      ],
      "metadata": {
        "colab": {
          "base_uri": "https://localhost:8080/"
        },
        "id": "jRz73EKzias_",
        "outputId": "8665401a-25f3-48c5-f7cd-a9194d73645f"
      },
      "execution_count": 7,
      "outputs": [
        {
          "output_type": "stream",
          "name": "stdout",
          "text": [
            "10\n",
            "8\n",
            "6\n",
            "4\n",
            "2\n"
          ]
        }
      ]
    },
    {
      "cell_type": "code",
      "source": [
        "for i in range(10,1,-1):\n",
        "  print(i)"
      ],
      "metadata": {
        "colab": {
          "base_uri": "https://localhost:8080/"
        },
        "id": "SViBayVliuv6",
        "outputId": "2e1e4e23-8e9d-4c47-d961-f4d713857710"
      },
      "execution_count": 8,
      "outputs": [
        {
          "output_type": "stream",
          "name": "stdout",
          "text": [
            "10\n",
            "9\n",
            "8\n",
            "7\n",
            "6\n",
            "5\n",
            "4\n",
            "3\n",
            "2\n"
          ]
        }
      ]
    },
    {
      "cell_type": "code",
      "source": [
        "for i in range(10,1,-2):\n",
        "  print(i)"
      ],
      "metadata": {
        "colab": {
          "base_uri": "https://localhost:8080/"
        },
        "id": "rmQPisbDjCvs",
        "outputId": "13bdc285-520e-4c14-eeff-0b17625f7d9b"
      },
      "execution_count": 9,
      "outputs": [
        {
          "output_type": "stream",
          "name": "stdout",
          "text": [
            "10\n",
            "8\n",
            "6\n",
            "4\n",
            "2\n"
          ]
        }
      ]
    },
    {
      "cell_type": "code",
      "source": [
        "str=\"aman kumar\" ## as we know string is a sequence of charcter\n",
        "for i in str:\n",
        "  print(i)"
      ],
      "metadata": {
        "colab": {
          "base_uri": "https://localhost:8080/"
        },
        "id": "VRfPYY5njNSo",
        "outputId": "a9da107a-5999-4ecc-a087-4b21f9747766"
      },
      "execution_count": 11,
      "outputs": [
        {
          "output_type": "stream",
          "name": "stdout",
          "text": [
            "a\n",
            "m\n",
            "a\n",
            "n\n",
            " \n",
            "k\n",
            "u\n",
            "m\n",
            "a\n",
            "r\n"
          ]
        }
      ]
    },
    {
      "cell_type": "code",
      "source": [
        "## while lop continues to execute as long as the condition is true\n",
        "count=0\n",
        "while count<5:\n",
        "  print(count)\n",
        "  count=count+1\n"
      ],
      "metadata": {
        "colab": {
          "base_uri": "https://localhost:8080/"
        },
        "id": "UiCaPVnYkCoP",
        "outputId": "defaa509-89cf-40d3-8228-3c23dbfe4012"
      },
      "execution_count": 12,
      "outputs": [
        {
          "output_type": "stream",
          "name": "stdout",
          "text": [
            "0\n",
            "1\n",
            "2\n",
            "3\n",
            "4\n"
          ]
        }
      ]
    },
    {
      "cell_type": "code",
      "source": [
        "count=0\n",
        "while count%2==0:\n",
        "  print(count)\n",
        "  count+=1"
      ],
      "metadata": {
        "colab": {
          "base_uri": "https://localhost:8080/"
        },
        "id": "nWFSMWtalQ-n",
        "outputId": "87fe7307-446b-4baa-d994-abeb0f718513"
      },
      "execution_count": 14,
      "outputs": [
        {
          "output_type": "stream",
          "name": "stdout",
          "text": [
            "0\n"
          ]
        }
      ]
    },
    {
      "cell_type": "code",
      "source": [
        "## break statements exits the loop prematurely\n",
        "for i in range(10):\n",
        "  if i==5:\n",
        "    break\n",
        "  print(i) ## here print is out of if statement"
      ],
      "metadata": {
        "colab": {
          "base_uri": "https://localhost:8080/"
        },
        "id": "T_QWXydXmGG_",
        "outputId": "e50828a0-062f-4e50-c3b6-d72db84a014d"
      },
      "execution_count": 22,
      "outputs": [
        {
          "output_type": "stream",
          "name": "stdout",
          "text": [
            "0\n",
            "1\n",
            "2\n",
            "3\n",
            "4\n"
          ]
        }
      ]
    },
    {
      "cell_type": "code",
      "source": [
        "## continue statement\n",
        "for i in range(10):\n",
        "  if i%2==0:\n",
        "    continue\n",
        "  print(i)"
      ],
      "metadata": {
        "colab": {
          "base_uri": "https://localhost:8080/"
        },
        "id": "RgIDsJfrLi4a",
        "outputId": "eb6de9e6-947a-4f33-ea6b-a935fa1c93c4"
      },
      "execution_count": 23,
      "outputs": [
        {
          "output_type": "stream",
          "name": "stdout",
          "text": [
            "1\n",
            "3\n",
            "5\n",
            "7\n",
            "9\n"
          ]
        }
      ]
    },
    {
      "cell_type": "code",
      "source": [
        "# pass statemnet\n",
        "## the pass statement  is a null operation : it does nothing\n",
        "for i in range(5):\n",
        "  if i==3:\n",
        "    print(\"the number is 3\")\n",
        "    pass\n",
        "  print(i)"
      ],
      "metadata": {
        "colab": {
          "base_uri": "https://localhost:8080/"
        },
        "id": "GD825mu-MRZB",
        "outputId": "9027b7a8-72cf-4304-df78-9e7e9bb2fd31"
      },
      "execution_count": 24,
      "outputs": [
        {
          "output_type": "stream",
          "name": "stdout",
          "text": [
            "0\n",
            "1\n",
            "2\n",
            "the number is 3\n",
            "3\n",
            "4\n"
          ]
        }
      ]
    },
    {
      "cell_type": "code",
      "source": [
        "#nested loops\n",
        "## A loop inside a  loop\n",
        "for i in range(3):\n",
        "  for j in range(2):\n",
        "    print(i,j)"
      ],
      "metadata": {
        "colab": {
          "base_uri": "https://localhost:8080/"
        },
        "id": "uYO3wphaNotR",
        "outputId": "3ad099f3-d1f3-42c8-9526-b73df01c2cf5"
      },
      "execution_count": 25,
      "outputs": [
        {
          "output_type": "stream",
          "name": "stdout",
          "text": [
            "0 0\n",
            "0 1\n",
            "1 0\n",
            "1 1\n",
            "2 0\n",
            "2 1\n"
          ]
        }
      ]
    },
    {
      "cell_type": "code",
      "source": [
        "for i in range(3):\n",
        "  for j in range(2):\n",
        "    print(f\"i:{i}and j:{j}\")"
      ],
      "metadata": {
        "colab": {
          "base_uri": "https://localhost:8080/"
        },
        "id": "ETJdDtF0OrqN",
        "outputId": "3a6d69ab-f801-4c9f-8db3-8fb4a7f6f8c7"
      },
      "execution_count": 26,
      "outputs": [
        {
          "output_type": "stream",
          "name": "stdout",
          "text": [
            "i:0and j:0\n",
            "i:0and j:1\n",
            "i:1and j:0\n",
            "i:1and j:1\n",
            "i:2and j:0\n",
            "i:2and j:1\n"
          ]
        }
      ]
    },
    {
      "cell_type": "code",
      "source": [
        "## calculate the sum of first n natural numbers\n",
        "n=10\n",
        "sum=0\n",
        "count=1\n",
        "while count<=n:\n",
        "  sum= sum+count\n",
        "  count=count+1\n",
        "print(\"The sum of first 10 natural numbers is:\",sum)"
      ],
      "metadata": {
        "colab": {
          "base_uri": "https://localhost:8080/"
        },
        "id": "ymZM7XtfPMeX",
        "outputId": "16d179d7-9998-44b6-b650-8fe9692abff5"
      },
      "execution_count": 27,
      "outputs": [
        {
          "output_type": "stream",
          "name": "stdout",
          "text": [
            "The sum of first 10 natural numbers is: 55\n"
          ]
        }
      ]
    }
  ]
}