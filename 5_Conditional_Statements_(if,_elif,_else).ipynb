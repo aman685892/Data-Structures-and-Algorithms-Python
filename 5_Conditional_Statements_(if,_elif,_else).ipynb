{
  "nbformat": 4,
  "nbformat_minor": 0,
  "metadata": {
    "colab": {
      "provenance": [],
      "authorship_tag": "ABX9TyOnkFBJMQoGSceezyxEs5c5",
      "include_colab_link": true
    },
    "kernelspec": {
      "name": "python3",
      "display_name": "Python 3"
    },
    "language_info": {
      "name": "python"
    }
  },
  "cells": [
    {
      "cell_type": "markdown",
      "metadata": {
        "id": "view-in-github",
        "colab_type": "text"
      },
      "source": [
        "<a href=\"https://colab.research.google.com/github/aman685892/Data-Structures-and-Algorithms-Python/blob/main/5_Conditional_Statements_(if%2C_elif%2C_else).ipynb\" target=\"_parent\"><img src=\"https://colab.research.google.com/assets/colab-badge.svg\" alt=\"Open In Colab\"/></a>"
      ]
    },
    {
      "cell_type": "code",
      "execution_count": 1,
      "metadata": {
        "colab": {
          "base_uri": "https://localhost:8080/"
        },
        "id": "bHGd3CavZx48",
        "outputId": "9e7d1dfe-3403-430c-9d81-d26b252033c8"
      },
      "outputs": [
        {
          "output_type": "stream",
          "name": "stdout",
          "text": [
            "You are eligible for voting\n"
          ]
        }
      ],
      "source": [
        "## if statemnet\n",
        "age=34\n",
        "if age>=18:\n",
        "  print(\"You are eligible for voting\")\n",
        ""
      ]
    },
    {
      "cell_type": "code",
      "source": [
        "age=12\n",
        "if age>=18:\n",
        "  print(\"You are eligible for voting\")\n",
        "else:\n",
        "  print(\"You are not eligible for voting\")"
      ],
      "metadata": {
        "colab": {
          "base_uri": "https://localhost:8080/"
        },
        "id": "2aquDC3Ja_xR",
        "outputId": "4a7b0a8d-c76f-49f3-bd2b-28abb3d2d133"
      },
      "execution_count": 2,
      "outputs": [
        {
          "output_type": "stream",
          "name": "stdout",
          "text": [
            "You are not eligible for voting\n"
          ]
        }
      ]
    },
    {
      "cell_type": "code",
      "source": [
        "age=20\n",
        "if age<=13:\n",
        "  print(\"You are a child\")\n",
        "elif age<18:\n",
        "    print(\"You are teenager\")\n",
        "else:\n",
        "  print(\"You are an adult\")"
      ],
      "metadata": {
        "colab": {
          "base_uri": "https://localhost:8080/"
        },
        "id": "Lx1JFsp3bKrF",
        "outputId": "b0d832fb-62f7-45ae-f8d3-141e07f999a1"
      },
      "execution_count": 4,
      "outputs": [
        {
          "output_type": "stream",
          "name": "stdout",
          "text": [
            "You are an adult\n"
          ]
        }
      ]
    },
    {
      "cell_type": "code",
      "source": [
        "## Nested if, elif and else statemnets\n",
        "num=int(input(\"Enter the number\"))\n",
        "if num>=0:\n",
        "  print(\"The number is positive\")\n",
        "  if num%2==0:\n",
        "    print(\"The number is even\")\n",
        "  else:\n",
        "    print(\"The number is odd\")\n",
        "else:\n",
        "  print(\"The number is negative\")"
      ],
      "metadata": {
        "colab": {
          "base_uri": "https://localhost:8080/"
        },
        "id": "_xS9o_6Gccek",
        "outputId": "ef716f73-fa1f-40ea-a0fe-fc7610f62b63"
      },
      "execution_count": 5,
      "outputs": [
        {
          "output_type": "stream",
          "name": "stdout",
          "text": [
            "Enter the number56\n",
            "The number is positive\n",
            "The number is even\n"
          ]
        }
      ]
    },
    {
      "cell_type": "code",
      "source": [
        "num=int(input(\"Enter the number\"))\n",
        "if num>=0:\n",
        "  print(\"The number is positive\")\n",
        "  if num%2==0:\n",
        "    print(\"The number is even\")\n",
        "  else:\n",
        "    print(\"The number is odd\")\n",
        "else:\n",
        "  print(\"The number is negative\")"
      ],
      "metadata": {
        "colab": {
          "base_uri": "https://localhost:8080/"
        },
        "id": "IyiivgoqdeZO",
        "outputId": "bd70197e-eeb0-4a27-cee0-1c0fe86d95be"
      },
      "execution_count": 6,
      "outputs": [
        {
          "output_type": "stream",
          "name": "stdout",
          "text": [
            "Enter the number67\n",
            "The number is positive\n",
            "The number is odd\n"
          ]
        }
      ]
    },
    {
      "cell_type": "code",
      "source": [
        "## practical example\n",
        "## determine if a year is a leap year\n",
        "year= int(input(\"Enter the year\"))\n",
        "if year%4==0:\n",
        "  if year%100==0:\n",
        "    if year%400==0:\n",
        "      print(year,\"is a leap year\")\n",
        "\n",
        "    else:\n",
        "      print(year,\"is not a leap year\")\n",
        "  else:\n",
        "    print(year,\"is a leap year\")\n",
        "else:\n",
        "  print(year,\"is not  a leap year\")"
      ],
      "metadata": {
        "colab": {
          "base_uri": "https://localhost:8080/"
        },
        "id": "hrKv86I6djL1",
        "outputId": "ce2d21e1-520b-4dd9-ddf4-466a912b03cf"
      },
      "execution_count": 9,
      "outputs": [
        {
          "output_type": "stream",
          "name": "stdout",
          "text": [
            "Enter the year2022\n",
            "2022 is not  a leap year\n"
          ]
        }
      ]
    }
  ]
}